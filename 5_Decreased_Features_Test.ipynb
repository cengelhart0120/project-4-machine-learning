{
  "cells": [
    {
      "cell_type": "code",
      "execution_count": null,
      "id": "579f3240-34b7-470d-9bc3-4feeca931e4d",
      "metadata": {
        "id": "579f3240-34b7-470d-9bc3-4feeca931e4d",
        "colab": {
          "base_uri": "https://localhost:8080/"
        },
        "outputId": "613ceac7-8100-4629-bc9e-2f4683681e22"
      },
      "outputs": [
        {
          "output_type": "stream",
          "name": "stdout",
          "text": [
            "Collecting ucimlrepo\n",
            "  Downloading ucimlrepo-0.0.7-py3-none-any.whl (8.0 kB)\n",
            "Requirement already satisfied: pandas>=1.0.0 in /usr/local/lib/python3.10/dist-packages (from ucimlrepo) (2.0.3)\n",
            "Requirement already satisfied: certifi>=2020.12.5 in /usr/local/lib/python3.10/dist-packages (from ucimlrepo) (2024.6.2)\n",
            "Requirement already satisfied: python-dateutil>=2.8.2 in /usr/local/lib/python3.10/dist-packages (from pandas>=1.0.0->ucimlrepo) (2.8.2)\n",
            "Requirement already satisfied: pytz>=2020.1 in /usr/local/lib/python3.10/dist-packages (from pandas>=1.0.0->ucimlrepo) (2023.4)\n",
            "Requirement already satisfied: tzdata>=2022.1 in /usr/local/lib/python3.10/dist-packages (from pandas>=1.0.0->ucimlrepo) (2024.1)\n",
            "Requirement already satisfied: numpy>=1.21.0 in /usr/local/lib/python3.10/dist-packages (from pandas>=1.0.0->ucimlrepo) (1.25.2)\n",
            "Requirement already satisfied: six>=1.5 in /usr/local/lib/python3.10/dist-packages (from python-dateutil>=2.8.2->pandas>=1.0.0->ucimlrepo) (1.16.0)\n",
            "Installing collected packages: ucimlrepo\n",
            "Successfully installed ucimlrepo-0.0.7\n"
          ]
        }
      ],
      "source": [
        "pip install ucimlrepo"
      ]
    },
    {
      "cell_type": "code",
      "execution_count": null,
      "id": "f9f57eb9-146e-4112-a065-0bde1562f3a4",
      "metadata": {
        "id": "f9f57eb9-146e-4112-a065-0bde1562f3a4"
      },
      "outputs": [],
      "source": [
        "from sklearn.model_selection import train_test_split\n",
        "from sklearn.preprocessing import StandardScaler, MinMaxScaler\n",
        "import pandas as pd\n",
        "import tensorflow as tf\n",
        "from ucimlrepo import fetch_ucirepo\n",
        "\n",
        "# Fetching the dataset\n",
        "student_performance = fetch_ucirepo(id=320)\n",
        "\n",
        "# Extracting features and targets\n",
        "X = student_performance.data.features\n",
        "y = student_performance.data.targets\n",
        "\n",
        "# Converting features and targets to Pandas DataFrames\n",
        "X_df = pd.DataFrame(X, columns=student_performance.metadata.features)\n",
        "y_df = pd.DataFrame(y, columns=student_performance.metadata.targets)\n",
        "\n",
        "# Concatenating features and targets into a single DataFrame\n",
        "student_df = pd.concat([X_df, y_df], axis=1)"
      ]
    },
    {
      "cell_type": "code",
      "execution_count": null,
      "id": "f5018891-e9a7-4577-899b-887f309759b7",
      "metadata": {
        "id": "f5018891-e9a7-4577-899b-887f309759b7"
      },
      "outputs": [],
      "source": [
        "# Creating pass/fail category for 'G3'\n",
        "# True ('pass' or 1) if >= 10, else False ('fail' or 0)\n",
        "student_df[\"G3\"] = student_df[\"G3\"].astype(int)\n",
        "student_df[\"pass_fail\"] = (student_df[\"G3\"] >= 10).astype(int)"
      ]
    },
    {
      "cell_type": "code",
      "execution_count": null,
      "id": "f5d5e99c-62c3-4620-a711-5ca8c2d44327",
      "metadata": {
        "id": "f5d5e99c-62c3-4620-a711-5ca8c2d44327"
      },
      "outputs": [],
      "source": [
        "# Dropping original 'G3'\n",
        "student_df = student_df.drop(columns = \"G3\")"
      ]
    },
    {
      "cell_type": "markdown",
      "id": "140787ba-6d0b-4c2d-8e68-e15cccf9e554",
      "metadata": {
        "id": "140787ba-6d0b-4c2d-8e68-e15cccf9e554"
      },
      "source": [
        "# Encoding"
      ]
    },
    {
      "cell_type": "code",
      "execution_count": null,
      "id": "299231e8-8ada-4b7b-b2fc-d3d53bac41d4",
      "metadata": {
        "id": "299231e8-8ada-4b7b-b2fc-d3d53bac41d4"
      },
      "outputs": [],
      "source": [
        "# Converting categorical data to numeric with 'pd.get_dummies'\n",
        "student_df = pd.get_dummies(student_df)"
      ]
    },
    {
      "cell_type": "code",
      "source": [
        "# Gathering all column names\n",
        "student_df_column_names_list = student_df.columns.tolist()\n",
        "print(student_df_column_names_list)"
      ],
      "metadata": {
        "colab": {
          "base_uri": "https://localhost:8080/"
        },
        "id": "qZ6XdjAZN4m9",
        "outputId": "4d3542ea-64b1-49be-a573-9f698cd125ee"
      },
      "id": "qZ6XdjAZN4m9",
      "execution_count": null,
      "outputs": [
        {
          "output_type": "stream",
          "name": "stdout",
          "text": [
            "['age', 'Medu', 'Fedu', 'traveltime', 'studytime', 'failures', 'famrel', 'freetime', 'goout', 'Dalc', 'Walc', 'health', 'absences', 'G1', 'G2', 'pass_fail', 'school_GP', 'school_MS', 'sex_F', 'sex_M', 'address_R', 'address_U', 'famsize_GT3', 'famsize_LE3', 'Pstatus_A', 'Pstatus_T', 'Mjob_at_home', 'Mjob_health', 'Mjob_other', 'Mjob_services', 'Mjob_teacher', 'Fjob_at_home', 'Fjob_health', 'Fjob_other', 'Fjob_services', 'Fjob_teacher', 'reason_course', 'reason_home', 'reason_other', 'reason_reputation', 'guardian_father', 'guardian_mother', 'guardian_other', 'schoolsup_no', 'schoolsup_yes', 'famsup_no', 'famsup_yes', 'paid_no', 'paid_yes', 'activities_no', 'activities_yes', 'nursery_no', 'nursery_yes', 'higher_no', 'higher_yes', 'internet_no', 'internet_yes', 'romantic_no', 'romantic_yes']\n"
          ]
        }
      ]
    },
    {
      "cell_type": "code",
      "source": [
        "# Removing column names (those that are 'to keep' based on Model Inspection results)\n",
        "columns_to_keep = ['pass_fail', 'G2', 'G1', 'failures', 'internet_yes', 'absences', 'paid_yes', 'address_R', 'nursery_no', 'Walc', 'goout']\n",
        "columns_to_drop = list(set(student_df_column_names_list) - set(columns_to_keep))\n",
        "student_df = student_df.drop(columns = columns_to_drop)\n",
        "print(student_df.columns.tolist())"
      ],
      "metadata": {
        "colab": {
          "base_uri": "https://localhost:8080/"
        },
        "id": "LcyG9wGdPAVX",
        "outputId": "201aa5cd-3b59-47dc-be19-a0a24a825cb3"
      },
      "id": "LcyG9wGdPAVX",
      "execution_count": null,
      "outputs": [
        {
          "output_type": "stream",
          "name": "stdout",
          "text": [
            "['failures', 'goout', 'Walc', 'absences', 'G1', 'G2', 'pass_fail', 'address_R', 'paid_yes', 'nursery_no', 'internet_yes']\n"
          ]
        }
      ]
    },
    {
      "cell_type": "code",
      "execution_count": null,
      "id": "a55a4fde-07ab-4d6f-b834-867ac57cd27d",
      "metadata": {
        "id": "a55a4fde-07ab-4d6f-b834-867ac57cd27d"
      },
      "outputs": [],
      "source": [
        "# Splitting preprocessed data into features and target arrays\n",
        "X = student_df.drop(columns = \"pass_fail\", axis = 1)\n",
        "y= student_df[\"pass_fail\"]\n",
        "\n",
        "# Splitting the preprocessed data into a training and testing dataset\n",
        "X_train, X_test, y_train, y_test = train_test_split(X, y, random_state = 1)"
      ]
    },
    {
      "cell_type": "markdown",
      "id": "f46aee54-0916-4dcf-a51d-3760b96b9426",
      "metadata": {
        "id": "f46aee54-0916-4dcf-a51d-3760b96b9426"
      },
      "source": [
        "# Scaling"
      ]
    },
    {
      "cell_type": "code",
      "execution_count": null,
      "id": "30bf6533-ce1a-4f8c-846c-08ba5ecfe9c0",
      "metadata": {
        "id": "30bf6533-ce1a-4f8c-846c-08ba5ecfe9c0"
      },
      "outputs": [],
      "source": [
        "# Creating a StandardScaler instance\n",
        "scaler = StandardScaler()\n",
        "\n",
        "# Fitting the StandardScaler\n",
        "X_scaler = scaler.fit(X_train)\n",
        "\n",
        "# Scaling the data\n",
        "X_train_scaled = X_scaler.transform(X_train)\n",
        "X_test_scaled = X_scaler.transform(X_test)"
      ]
    },
    {
      "cell_type": "markdown",
      "source": [
        "# Compile, Train, and Evaluate the Model"
      ],
      "metadata": {
        "id": "RnVdpF8-Rq_u"
      },
      "id": "RnVdpF8-Rq_u"
    },
    {
      "cell_type": "code",
      "execution_count": null,
      "id": "b97c5bc3-e0b6-4bc8-9923-0e815fc4e0f9",
      "metadata": {
        "id": "b97c5bc3-e0b6-4bc8-9923-0e815fc4e0f9",
        "outputId": "200d776e-ac81-4e8b-bd5a-22f2baa8177f",
        "colab": {
          "base_uri": "https://localhost:8080/"
        }
      },
      "outputs": [
        {
          "output_type": "stream",
          "name": "stdout",
          "text": [
            "Model: \"sequential_1\"\n",
            "_________________________________________________________________\n",
            " Layer (type)                Output Shape              Param #   \n",
            "=================================================================\n",
            " dense_4 (Dense)             (None, 100)               1100      \n",
            "                                                                 \n",
            " dense_5 (Dense)             (None, 50)                5050      \n",
            "                                                                 \n",
            " dense_6 (Dense)             (None, 30)                1530      \n",
            "                                                                 \n",
            " dense_7 (Dense)             (None, 1)                 31        \n",
            "                                                                 \n",
            "=================================================================\n",
            "Total params: 7711 (30.12 KB)\n",
            "Trainable params: 7711 (30.12 KB)\n",
            "Non-trainable params: 0 (0.00 Byte)\n",
            "_________________________________________________________________\n"
          ]
        }
      ],
      "source": [
        "# Defining the model - deep neural net, i.e., the number of input features and hidden nodes for each layer.\n",
        "\n",
        "# Optimized hyperparameters based on Chalisa's educated trial-and-error work\n",
        "features = X_train_scaled.shape[1]\n",
        "nodes_layer1 = 100\n",
        "nodes_layer2 = 50\n",
        "nodes_layer3 = 30\n",
        "nn = tf.keras.models.Sequential()\n",
        "\n",
        "# First hidden layer\n",
        "nn.add(tf.keras.layers.Dense(units = nodes_layer1, input_dim = features, activation = \"relu\"))\n",
        "\n",
        "# Second hidden layer\n",
        "nn.add(tf.keras.layers.Dense(units = nodes_layer2, activation = \"relu\"))\n",
        "\n",
        "# Third hidden layer\n",
        "nn.add(tf.keras.layers.Dense(units = nodes_layer3, activation = \"relu\"))\n",
        "\n",
        "# Output layer\n",
        "nn.add(tf.keras.layers.Dense(units = 1, activation = \"sigmoid\"))\n",
        "\n",
        "# Checking the structure of the model\n",
        "nn.summary()"
      ]
    },
    {
      "cell_type": "code",
      "execution_count": null,
      "id": "ac9fe640-79df-45ab-a3d7-bb7b3bdba106",
      "metadata": {
        "id": "ac9fe640-79df-45ab-a3d7-bb7b3bdba106"
      },
      "outputs": [],
      "source": [
        "# Compiling the model\n",
        "nn.compile(loss = \"binary_crossentropy\", optimizer = \"adam\", metrics = [\"accuracy\"])"
      ]
    },
    {
      "cell_type": "code",
      "execution_count": null,
      "id": "7e8dfd69-e7a1-412a-a9a4-48e4c79ecbe4",
      "metadata": {
        "id": "7e8dfd69-e7a1-412a-a9a4-48e4c79ecbe4",
        "outputId": "4e6f0147-2e0b-49d6-d96d-d71f4d02933c",
        "colab": {
          "base_uri": "https://localhost:8080/"
        },
        "collapsed": true
      },
      "outputs": [
        {
          "output_type": "stream",
          "name": "stdout",
          "text": [
            "Epoch 1/100\n",
            "16/16 [==============================] - 1s 2ms/step - loss: 0.6035 - accuracy: 0.7942\n",
            "Epoch 2/100\n",
            "16/16 [==============================] - 0s 2ms/step - loss: 0.4282 - accuracy: 0.8580\n",
            "Epoch 3/100\n",
            "16/16 [==============================] - 0s 2ms/step - loss: 0.2935 - accuracy: 0.8807\n",
            "Epoch 4/100\n",
            "16/16 [==============================] - 0s 2ms/step - loss: 0.2186 - accuracy: 0.9259\n",
            "Epoch 5/100\n",
            "16/16 [==============================] - 0s 2ms/step - loss: 0.1862 - accuracy: 0.9321\n",
            "Epoch 6/100\n",
            "16/16 [==============================] - 0s 2ms/step - loss: 0.1647 - accuracy: 0.9362\n",
            "Epoch 7/100\n",
            "16/16 [==============================] - 0s 2ms/step - loss: 0.1490 - accuracy: 0.9403\n",
            "Epoch 8/100\n",
            "16/16 [==============================] - 0s 2ms/step - loss: 0.1377 - accuracy: 0.9403\n",
            "Epoch 9/100\n",
            "16/16 [==============================] - 0s 2ms/step - loss: 0.1298 - accuracy: 0.9403\n",
            "Epoch 10/100\n",
            "16/16 [==============================] - 0s 2ms/step - loss: 0.1206 - accuracy: 0.9465\n",
            "Epoch 11/100\n",
            "16/16 [==============================] - 0s 3ms/step - loss: 0.1173 - accuracy: 0.9424\n",
            "Epoch 12/100\n",
            "16/16 [==============================] - 0s 2ms/step - loss: 0.1084 - accuracy: 0.9547\n",
            "Epoch 13/100\n",
            "16/16 [==============================] - 0s 2ms/step - loss: 0.1056 - accuracy: 0.9547\n",
            "Epoch 14/100\n",
            "16/16 [==============================] - 0s 2ms/step - loss: 0.1069 - accuracy: 0.9486\n",
            "Epoch 15/100\n",
            "16/16 [==============================] - 0s 3ms/step - loss: 0.1004 - accuracy: 0.9465\n",
            "Epoch 16/100\n",
            "16/16 [==============================] - 0s 2ms/step - loss: 0.0924 - accuracy: 0.9609\n",
            "Epoch 17/100\n",
            "16/16 [==============================] - 0s 2ms/step - loss: 0.0882 - accuracy: 0.9650\n",
            "Epoch 18/100\n",
            "16/16 [==============================] - 0s 2ms/step - loss: 0.0842 - accuracy: 0.9691\n",
            "Epoch 19/100\n",
            "16/16 [==============================] - 0s 2ms/step - loss: 0.0791 - accuracy: 0.9691\n",
            "Epoch 20/100\n",
            "16/16 [==============================] - 0s 2ms/step - loss: 0.0812 - accuracy: 0.9630\n",
            "Epoch 21/100\n",
            "16/16 [==============================] - 0s 2ms/step - loss: 0.0824 - accuracy: 0.9671\n",
            "Epoch 22/100\n",
            "16/16 [==============================] - 0s 2ms/step - loss: 0.0741 - accuracy: 0.9691\n",
            "Epoch 23/100\n",
            "16/16 [==============================] - 0s 3ms/step - loss: 0.0676 - accuracy: 0.9774\n",
            "Epoch 24/100\n",
            "16/16 [==============================] - 0s 3ms/step - loss: 0.0682 - accuracy: 0.9712\n",
            "Epoch 25/100\n",
            "16/16 [==============================] - 0s 3ms/step - loss: 0.0646 - accuracy: 0.9753\n",
            "Epoch 26/100\n",
            "16/16 [==============================] - 0s 3ms/step - loss: 0.0676 - accuracy: 0.9650\n",
            "Epoch 27/100\n",
            "16/16 [==============================] - 0s 3ms/step - loss: 0.0613 - accuracy: 0.9815\n",
            "Epoch 28/100\n",
            "16/16 [==============================] - 0s 3ms/step - loss: 0.0554 - accuracy: 0.9794\n",
            "Epoch 29/100\n",
            "16/16 [==============================] - 0s 3ms/step - loss: 0.0581 - accuracy: 0.9856\n",
            "Epoch 30/100\n",
            "16/16 [==============================] - 0s 3ms/step - loss: 0.0568 - accuracy: 0.9753\n",
            "Epoch 31/100\n",
            "16/16 [==============================] - 0s 2ms/step - loss: 0.0499 - accuracy: 0.9856\n",
            "Epoch 32/100\n",
            "16/16 [==============================] - 0s 4ms/step - loss: 0.0478 - accuracy: 0.9794\n",
            "Epoch 33/100\n",
            "16/16 [==============================] - 0s 2ms/step - loss: 0.0435 - accuracy: 0.9835\n",
            "Epoch 34/100\n",
            "16/16 [==============================] - 0s 3ms/step - loss: 0.0427 - accuracy: 0.9877\n",
            "Epoch 35/100\n",
            "16/16 [==============================] - 0s 3ms/step - loss: 0.0410 - accuracy: 0.9856\n",
            "Epoch 36/100\n",
            "16/16 [==============================] - 0s 2ms/step - loss: 0.0388 - accuracy: 0.9856\n",
            "Epoch 37/100\n",
            "16/16 [==============================] - 0s 2ms/step - loss: 0.0388 - accuracy: 0.9835\n",
            "Epoch 38/100\n",
            "16/16 [==============================] - 0s 2ms/step - loss: 0.0352 - accuracy: 0.9897\n",
            "Epoch 39/100\n",
            "16/16 [==============================] - 0s 3ms/step - loss: 0.0342 - accuracy: 0.9897\n",
            "Epoch 40/100\n",
            "16/16 [==============================] - 0s 2ms/step - loss: 0.0325 - accuracy: 0.9877\n",
            "Epoch 41/100\n",
            "16/16 [==============================] - 0s 2ms/step - loss: 0.0305 - accuracy: 0.9918\n",
            "Epoch 42/100\n",
            "16/16 [==============================] - 0s 2ms/step - loss: 0.0287 - accuracy: 0.9877\n",
            "Epoch 43/100\n",
            "16/16 [==============================] - 0s 3ms/step - loss: 0.0275 - accuracy: 0.9918\n",
            "Epoch 44/100\n",
            "16/16 [==============================] - 0s 3ms/step - loss: 0.0286 - accuracy: 0.9897\n",
            "Epoch 45/100\n",
            "16/16 [==============================] - 0s 3ms/step - loss: 0.0296 - accuracy: 0.9918\n",
            "Epoch 46/100\n",
            "16/16 [==============================] - 0s 3ms/step - loss: 0.0273 - accuracy: 0.9897\n",
            "Epoch 47/100\n",
            "16/16 [==============================] - 0s 3ms/step - loss: 0.0252 - accuracy: 0.9918\n",
            "Epoch 48/100\n",
            "16/16 [==============================] - 0s 3ms/step - loss: 0.0322 - accuracy: 0.9877\n",
            "Epoch 49/100\n",
            "16/16 [==============================] - 0s 2ms/step - loss: 0.0255 - accuracy: 0.9938\n",
            "Epoch 50/100\n",
            "16/16 [==============================] - 0s 2ms/step - loss: 0.0200 - accuracy: 0.9938\n",
            "Epoch 51/100\n",
            "16/16 [==============================] - 0s 2ms/step - loss: 0.0185 - accuracy: 0.9938\n",
            "Epoch 52/100\n",
            "16/16 [==============================] - 0s 2ms/step - loss: 0.0181 - accuracy: 0.9938\n",
            "Epoch 53/100\n",
            "16/16 [==============================] - 0s 2ms/step - loss: 0.0157 - accuracy: 0.9938\n",
            "Epoch 54/100\n",
            "16/16 [==============================] - 0s 2ms/step - loss: 0.0152 - accuracy: 0.9959\n",
            "Epoch 55/100\n",
            "16/16 [==============================] - 0s 2ms/step - loss: 0.0138 - accuracy: 0.9979\n",
            "Epoch 56/100\n",
            "16/16 [==============================] - 0s 2ms/step - loss: 0.0130 - accuracy: 0.9979\n",
            "Epoch 57/100\n",
            "16/16 [==============================] - 0s 2ms/step - loss: 0.0138 - accuracy: 0.9979\n",
            "Epoch 58/100\n",
            "16/16 [==============================] - 0s 2ms/step - loss: 0.0119 - accuracy: 0.9979\n",
            "Epoch 59/100\n",
            "16/16 [==============================] - 0s 2ms/step - loss: 0.0113 - accuracy: 0.9979\n",
            "Epoch 60/100\n",
            "16/16 [==============================] - 0s 2ms/step - loss: 0.0116 - accuracy: 0.9979\n",
            "Epoch 61/100\n",
            "16/16 [==============================] - 0s 2ms/step - loss: 0.0126 - accuracy: 0.9979\n",
            "Epoch 62/100\n",
            "16/16 [==============================] - 0s 2ms/step - loss: 0.0101 - accuracy: 0.9979\n",
            "Epoch 63/100\n",
            "16/16 [==============================] - 0s 3ms/step - loss: 0.0085 - accuracy: 1.0000\n",
            "Epoch 64/100\n",
            "16/16 [==============================] - 0s 3ms/step - loss: 0.0086 - accuracy: 0.9979\n",
            "Epoch 65/100\n",
            "16/16 [==============================] - 0s 3ms/step - loss: 0.0087 - accuracy: 0.9979\n",
            "Epoch 66/100\n",
            "16/16 [==============================] - 0s 3ms/step - loss: 0.0081 - accuracy: 0.9979\n",
            "Epoch 67/100\n",
            "16/16 [==============================] - 0s 3ms/step - loss: 0.0078 - accuracy: 0.9979\n",
            "Epoch 68/100\n",
            "16/16 [==============================] - 0s 3ms/step - loss: 0.0089 - accuracy: 0.9979\n",
            "Epoch 69/100\n",
            "16/16 [==============================] - 0s 2ms/step - loss: 0.0072 - accuracy: 1.0000\n",
            "Epoch 70/100\n",
            "16/16 [==============================] - 0s 3ms/step - loss: 0.0156 - accuracy: 0.9959\n",
            "Epoch 71/100\n",
            "16/16 [==============================] - 0s 2ms/step - loss: 0.0121 - accuracy: 0.9959\n",
            "Epoch 72/100\n",
            "16/16 [==============================] - 0s 2ms/step - loss: 0.0074 - accuracy: 1.0000\n",
            "Epoch 73/100\n",
            "16/16 [==============================] - 0s 2ms/step - loss: 0.0074 - accuracy: 0.9979\n",
            "Epoch 74/100\n",
            "16/16 [==============================] - 0s 2ms/step - loss: 0.0055 - accuracy: 1.0000\n",
            "Epoch 75/100\n",
            "16/16 [==============================] - 0s 2ms/step - loss: 0.0045 - accuracy: 1.0000\n",
            "Epoch 76/100\n",
            "16/16 [==============================] - 0s 3ms/step - loss: 0.0059 - accuracy: 1.0000\n",
            "Epoch 77/100\n",
            "16/16 [==============================] - 0s 2ms/step - loss: 0.0038 - accuracy: 1.0000\n",
            "Epoch 78/100\n",
            "16/16 [==============================] - 0s 2ms/step - loss: 0.0034 - accuracy: 1.0000\n",
            "Epoch 79/100\n",
            "16/16 [==============================] - 0s 2ms/step - loss: 0.0030 - accuracy: 1.0000\n",
            "Epoch 80/100\n",
            "16/16 [==============================] - 0s 2ms/step - loss: 0.0032 - accuracy: 1.0000\n",
            "Epoch 81/100\n",
            "16/16 [==============================] - 0s 2ms/step - loss: 0.0027 - accuracy: 1.0000\n",
            "Epoch 82/100\n",
            "16/16 [==============================] - 0s 2ms/step - loss: 0.0023 - accuracy: 1.0000\n",
            "Epoch 83/100\n",
            "16/16 [==============================] - 0s 2ms/step - loss: 0.0024 - accuracy: 1.0000\n",
            "Epoch 84/100\n",
            "16/16 [==============================] - 0s 2ms/step - loss: 0.0023 - accuracy: 1.0000\n",
            "Epoch 85/100\n",
            "16/16 [==============================] - 0s 2ms/step - loss: 0.0020 - accuracy: 1.0000\n",
            "Epoch 86/100\n",
            "16/16 [==============================] - 0s 3ms/step - loss: 0.0019 - accuracy: 1.0000\n",
            "Epoch 87/100\n",
            "16/16 [==============================] - 0s 3ms/step - loss: 0.0019 - accuracy: 1.0000\n",
            "Epoch 88/100\n",
            "16/16 [==============================] - 0s 3ms/step - loss: 0.0020 - accuracy: 1.0000\n",
            "Epoch 89/100\n",
            "16/16 [==============================] - 0s 3ms/step - loss: 0.0017 - accuracy: 1.0000\n",
            "Epoch 90/100\n",
            "16/16 [==============================] - 0s 3ms/step - loss: 0.0015 - accuracy: 1.0000\n",
            "Epoch 91/100\n",
            "16/16 [==============================] - 0s 3ms/step - loss: 0.0015 - accuracy: 1.0000\n",
            "Epoch 92/100\n",
            "16/16 [==============================] - 0s 2ms/step - loss: 0.0015 - accuracy: 1.0000\n",
            "Epoch 93/100\n",
            "16/16 [==============================] - 0s 2ms/step - loss: 0.0015 - accuracy: 1.0000\n",
            "Epoch 94/100\n",
            "16/16 [==============================] - 0s 3ms/step - loss: 0.0014 - accuracy: 1.0000\n",
            "Epoch 95/100\n",
            "16/16 [==============================] - 0s 2ms/step - loss: 0.0013 - accuracy: 1.0000\n",
            "Epoch 96/100\n",
            "16/16 [==============================] - 0s 2ms/step - loss: 0.0012 - accuracy: 1.0000\n",
            "Epoch 97/100\n",
            "16/16 [==============================] - 0s 3ms/step - loss: 0.0012 - accuracy: 1.0000\n",
            "Epoch 98/100\n",
            "16/16 [==============================] - 0s 2ms/step - loss: 0.0012 - accuracy: 1.0000\n",
            "Epoch 99/100\n",
            "16/16 [==============================] - 0s 2ms/step - loss: 0.0012 - accuracy: 1.0000\n",
            "Epoch 100/100\n",
            "16/16 [==============================] - 0s 2ms/step - loss: 0.0012 - accuracy: 1.0000\n"
          ]
        }
      ],
      "source": [
        "# Training the model\n",
        "fitted_model = nn.fit(X_train_scaled, y_train, epochs = 100)"
      ]
    },
    {
      "cell_type": "code",
      "execution_count": null,
      "id": "f8634b95-3f64-4d55-b77d-a5e3b5ba67ad",
      "metadata": {
        "id": "f8634b95-3f64-4d55-b77d-a5e3b5ba67ad",
        "outputId": "6db70d05-a7f8-4d00-8c6e-958f35d703a0",
        "colab": {
          "base_uri": "https://localhost:8080/"
        }
      },
      "outputs": [
        {
          "output_type": "stream",
          "name": "stdout",
          "text": [
            "16/16 - 0s - loss: 0.0012 - accuracy: 1.0000 - 177ms/epoch - 11ms/step\n",
            "Loss: 0.0011889534071087837, Accuracy: 1.0\n"
          ]
        }
      ],
      "source": [
        "# Evaluating the model using training data\n",
        "model_loss, model_accuracy = nn.evaluate(X_train_scaled,y_train,verbose=2)\n",
        "print(f\"Loss: {model_loss}, Accuracy: {model_accuracy}\")"
      ]
    },
    {
      "cell_type": "code",
      "execution_count": null,
      "id": "13c93f1f-da2b-4256-8ca4-0d18a52bf723",
      "metadata": {
        "id": "13c93f1f-da2b-4256-8ca4-0d18a52bf723",
        "outputId": "692e229f-1cf4-4901-e2b4-cb49a105c3a9",
        "colab": {
          "base_uri": "https://localhost:8080/"
        }
      },
      "outputs": [
        {
          "output_type": "stream",
          "name": "stdout",
          "text": [
            "6/6 - 0s - loss: 0.6583 - accuracy: 0.9080 - 29ms/epoch - 5ms/step\n",
            "Loss: 0.6583045721054077, Accuracy: 0.907975435256958\n"
          ]
        }
      ],
      "source": [
        "# Evaluating the model using test data\n",
        "model_loss, model_accuracy = nn.evaluate(X_test_scaled,y_test,verbose=2)\n",
        "print(f\"Loss: {model_loss}, Accuracy: {model_accuracy}\")"
      ]
    }
  ],
  "metadata": {
    "kernelspec": {
      "display_name": "Python 3 (ipykernel)",
      "language": "python",
      "name": "python3"
    },
    "language_info": {
      "codemirror_mode": {
        "name": "ipython",
        "version": 3
      },
      "file_extension": ".py",
      "mimetype": "text/x-python",
      "name": "python",
      "nbconvert_exporter": "python",
      "pygments_lexer": "ipython3",
      "version": "3.10.13"
    },
    "colab": {
      "provenance": []
    }
  },
  "nbformat": 4,
  "nbformat_minor": 5
}