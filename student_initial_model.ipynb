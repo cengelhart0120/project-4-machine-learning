{
 "cells": [
  {
   "cell_type": "code",
   "execution_count": 1,
   "metadata": {
    "id": "jPLaYW76hpEA"
   },
   "outputs": [
    {
     "name": "stderr",
     "output_type": "stream",
     "text": [
      "2024-06-10 14:32:41.714637: I tensorflow/core/platform/cpu_feature_guard.cc:193] This TensorFlow binary is optimized with oneAPI Deep Neural Network Library (oneDNN) to use the following CPU instructions in performance-critical operations:  SSE4.1 SSE4.2 AVX AVX2 FMA\n",
      "To enable them in other operations, rebuild TensorFlow with the appropriate compiler flags.\n"
     ]
    },
    {
     "ename": "ModuleNotFoundError",
     "evalue": "No module named 'google.colab'",
     "output_type": "error",
     "traceback": [
      "\u001b[0;31m---------------------------------------------------------------------------\u001b[0m",
      "\u001b[0;31mModuleNotFoundError\u001b[0m                       Traceback (most recent call last)",
      "Cell \u001b[0;32mIn[1], line 7\u001b[0m\n\u001b[1;32m      3\u001b[0m \u001b[38;5;28;01mimport\u001b[39;00m \u001b[38;5;21;01mpandas\u001b[39;00m \u001b[38;5;28;01mas\u001b[39;00m \u001b[38;5;21;01mpd\u001b[39;00m\n\u001b[1;32m      4\u001b[0m \u001b[38;5;28;01mimport\u001b[39;00m \u001b[38;5;21;01mtensorflow\u001b[39;00m \u001b[38;5;28;01mas\u001b[39;00m \u001b[38;5;21;01mtf\u001b[39;00m\n\u001b[0;32m----> 7\u001b[0m \u001b[38;5;28;01mfrom\u001b[39;00m \u001b[38;5;21;01mgoogle\u001b[39;00m\u001b[38;5;21;01m.\u001b[39;00m\u001b[38;5;21;01mcolab\u001b[39;00m \u001b[38;5;28;01mimport\u001b[39;00m files\n",
      "\u001b[0;31mModuleNotFoundError\u001b[0m: No module named 'google.colab'"
     ]
    }
   ],
   "source": [
    "from sklearn.model_selection import train_test_split\n",
    "from sklearn.preprocessing import StandardScaler\n",
    "import pandas as pd\n",
    "import tensorflow as tf\n",
    "\n",
    "\n",
    "from google.colab import files\n",
    "\n",
    "\n"
   ]
  },
  {
   "cell_type": "code",
   "execution_count": null,
   "metadata": {
    "colab": {
     "base_uri": "https://localhost:8080/",
     "height": 73
    },
    "id": "QHr6-jxjKuJ8",
    "outputId": "fe8aca90-d174-40ec-d6af-1433c1c68660"
   },
   "outputs": [],
   "source": [
    "uploaded = files.upload()"
   ]
  },
  {
   "cell_type": "code",
   "execution_count": null,
   "metadata": {
    "colab": {
     "base_uri": "https://localhost:8080/",
     "height": 73
    },
    "id": "T2lygoK2K47A",
    "outputId": "7aba9165-9a25-4044-bdc7-3f58f5578229"
   },
   "outputs": [],
   "source": [
    "uploaded_2 = files.upload()"
   ]
  },
  {
   "cell_type": "code",
   "execution_count": null,
   "metadata": {
    "id": "R6ZGuSA1LHe2"
   },
   "outputs": [],
   "source": [
    "math_data = pd.read_csv(\"math_success.csv\")\n",
    "portuguese_data = pd.read_csv(\"portuguese_success.csv\")\n",
    "\n",
    "math_df = pd.DataFrame(math_data)\n",
    "portuguese_df = pd.DataFrame(portuguese_data)"
   ]
  },
  {
   "cell_type": "code",
   "execution_count": null,
   "metadata": {
    "colab": {
     "base_uri": "https://localhost:8080/",
     "height": 255
    },
    "id": "G6NknzFehzfB",
    "outputId": "fa777967-7101-4156-f1f3-2cf2accf9f21"
   },
   "outputs": [],
   "source": [
    "math_df.head()"
   ]
  },
  {
   "cell_type": "code",
   "execution_count": null,
   "metadata": {
    "id": "mF46VjANh7lK"
   },
   "outputs": [],
   "source": [
    "math_df[\"g3\"] = math_df[\"g3\"].astype(int)\n",
    "math_df[\"pass_fail\"] = (math_df[\"g3\"] >= 10).astype(int)\n"
   ]
  },
  {
   "cell_type": "code",
   "execution_count": null,
   "metadata": {
    "id": "2-TfhUQns5XQ"
   },
   "outputs": [],
   "source": [
    "math_df = math_df.drop(columns = \"g3\")"
   ]
  },
  {
   "cell_type": "code",
   "execution_count": null,
   "metadata": {
    "id": "v-S1gpd1iFQE"
   },
   "outputs": [],
   "source": [
    "math_df = pd.get_dummies(math_df)"
   ]
  },
  {
   "cell_type": "code",
   "execution_count": null,
   "metadata": {
    "id": "TgUT5ZDEsnpJ"
   },
   "outputs": [],
   "source": [
    "X = math_df.drop(columns = \"pass_fail\", axis = 1)\n",
    "y= math_df[\"pass_fail\"]\n",
    "\n",
    "X_train, X_test, y_train, y_test = train_test_split(X, y, random_state = 1)"
   ]
  },
  {
   "cell_type": "code",
   "execution_count": null,
   "metadata": {
    "id": "tutqGiVUtF2h"
   },
   "outputs": [],
   "source": [
    "scaler = StandardScaler()\n",
    "\n",
    "X_scaler = scaler.fit(X_train)\n",
    "\n",
    "X_train_scaled = X_scaler.transform(X_train)\n",
    "X_test_scaled = X_scaler.transform(X_test)"
   ]
  },
  {
   "cell_type": "code",
   "execution_count": null,
   "metadata": {
    "colab": {
     "base_uri": "https://localhost:8080/"
    },
    "id": "emdeoBiVtTb_",
    "outputId": "17610d37-2bfa-4a90-db62-e6793df3d941"
   },
   "outputs": [],
   "source": [
    "# Define the model - deep neural net, i.e., the number of input features and hidden nodes for each layer.\n",
    "features = X_train_scaled.shape[1]\n",
    "\n",
    "nodes_layer1 = 100\n",
    "\n",
    "nodes_layer2 = 80\n",
    "\n",
    "nn = tf.keras.models.Sequential()\n",
    "\n",
    "# First hidden layer\n",
    "\n",
    "nn.add(tf.keras.layers.Dense(units = nodes_layer1, input_dim = features, activation = \"relu\"))\n",
    "\n",
    "# Second hidden layer\n",
    "\n",
    "nn.add(tf.keras.layers.Dense(units = nodes_layer2, activation = \"relu\"))\n",
    "\n",
    "# Output layer\n",
    "\n",
    "nn.add(tf.keras.layers.Dense(units = 1, activation = \"sigmoid\"))\n",
    "\n",
    "# Check the structure of the model\n",
    "nn.summary()"
   ]
  },
  {
   "cell_type": "code",
   "execution_count": null,
   "metadata": {
    "id": "1ISu-4OBtW03"
   },
   "outputs": [],
   "source": [
    "nn.compile(loss = \"binary_crossentropy\", optimizer = \"adam\", metrics = [\"accuracy\"])"
   ]
  },
  {
   "cell_type": "code",
   "execution_count": null,
   "metadata": {
    "colab": {
     "base_uri": "https://localhost:8080/"
    },
    "id": "2F4SH3y8tZ4L",
    "outputId": "b0dd8cb9-5b40-446a-8897-2c94d3e990e3"
   },
   "outputs": [],
   "source": [
    "fitted_model = nn.fit(X_train_scaled, y_train, epochs = 100)"
   ]
  },
  {
   "cell_type": "code",
   "execution_count": null,
   "metadata": {
    "colab": {
     "base_uri": "https://localhost:8080/"
    },
    "id": "bqpbE-sythuJ",
    "outputId": "9f92816b-0994-40db-de9b-7eae364ca9ab"
   },
   "outputs": [],
   "source": [
    "model_loss, model_accuracy = nn.evaluate(X_test_scaled,y_test,verbose=2)\n",
    "print(f\"Loss: {model_loss}, Accuracy: {model_accuracy}\")"
   ]
  },
  {
   "cell_type": "code",
   "execution_count": null,
   "metadata": {
    "colab": {
     "base_uri": "https://localhost:8080/",
     "height": 255
    },
    "id": "x85PKxDPNE9Q",
    "outputId": "9331f9e3-b71f-4536-94c1-ff4b77795c32"
   },
   "outputs": [],
   "source": [
    "portuguese_df.head()"
   ]
  },
  {
   "cell_type": "code",
   "execution_count": null,
   "metadata": {
    "id": "v-KdnVKEN1Kg"
   },
   "outputs": [],
   "source": [
    "portuguese_df[\"g3\"] = portuguese_df[\"g3\"].astype(int)\n",
    "portuguese_df[\"pass_fail\"] = (portuguese_df[\"g3\"] >= 10).astype(int)"
   ]
  },
  {
   "cell_type": "code",
   "execution_count": null,
   "metadata": {
    "id": "mNHejyb5Qeb9"
   },
   "outputs": [],
   "source": [
    "portuguese_df = portuguese_df.drop(columns = \"g3\")"
   ]
  },
  {
   "cell_type": "code",
   "execution_count": null,
   "metadata": {
    "id": "p7KPqmOUN6vO"
   },
   "outputs": [],
   "source": [
    "portuguese_df = pd.get_dummies(portuguese_df)"
   ]
  },
  {
   "cell_type": "code",
   "execution_count": null,
   "metadata": {
    "id": "_ym79I0DQ--z"
   },
   "outputs": [],
   "source": [
    "p_X = portuguese_df.drop(columns = \"pass_fail\", axis = 1)\n",
    "p_y= portuguese_df[\"pass_fail\"]\n",
    "\n",
    "p_X_train, p_X_test, p_y_train, p_y_test = train_test_split(p_X, p_y, random_state = 1)"
   ]
  },
  {
   "cell_type": "code",
   "execution_count": null,
   "metadata": {
    "id": "bDRy4uRBRNu7"
   },
   "outputs": [],
   "source": [
    "p_scaler = StandardScaler()\n",
    "\n",
    "p_X_scaler = scaler.fit(p_X_train)\n",
    "\n",
    "p_X_train_scaled = p_X_scaler.transform(p_X_train)\n",
    "p_X_test_scaled = p_X_scaler.transform(p_X_test)"
   ]
  },
  {
   "cell_type": "code",
   "execution_count": null,
   "metadata": {
    "colab": {
     "base_uri": "https://localhost:8080/"
    },
    "id": "1ArBWt_pRYAs",
    "outputId": "ee6c5b8f-95d3-4ada-e930-261e39475b5a"
   },
   "outputs": [],
   "source": [
    "#Define the model - deep neural net, i.e., the number of input features and hidden nodes for each layer.\n",
    "\n",
    "p_features = p_X_train_scaled.shape[1]\n",
    "\n",
    "p_nodes_layer1 = 100\n",
    "\n",
    "p_nodes_layer2 = 80\n",
    "\n",
    "p_nn = tf.keras.models.Sequential()\n",
    "\n",
    "# First hidden layer\n",
    "\n",
    "p_nn.add(tf.keras.layers.Dense(units = nodes_layer1, input_dim = features, activation = \"relu\"))\n",
    "\n",
    "# Second hidden layer\n",
    "\n",
    "p_nn.add(tf.keras.layers.Dense(units = nodes_layer2, activation = \"relu\"))\n",
    "\n",
    "# Output layer\n",
    "\n",
    "p_nn.add(tf.keras.layers.Dense(units = 1, activation = \"sigmoid\"))\n",
    "\n",
    "# Check the structure of the model\n",
    "p_nn.summary()"
   ]
  },
  {
   "cell_type": "code",
   "execution_count": null,
   "metadata": {
    "id": "B_Cbs9erRuD0"
   },
   "outputs": [],
   "source": [
    "p_nn.compile(loss = \"binary_crossentropy\", optimizer = \"adam\", metrics = [\"accuracy\"])"
   ]
  },
  {
   "cell_type": "code",
   "execution_count": null,
   "metadata": {
    "colab": {
     "base_uri": "https://localhost:8080/"
    },
    "id": "kGxHRaeQR3Lm",
    "outputId": "b7b0bc16-fc49-4bc7-9454-14182f0b7bf0"
   },
   "outputs": [],
   "source": [
    "p_nn_fitted_model = p_nn.fit(p_X_train_scaled, p_y_train, epochs = 100)"
   ]
  },
  {
   "cell_type": "code",
   "execution_count": null,
   "metadata": {
    "colab": {
     "base_uri": "https://localhost:8080/"
    },
    "id": "KG0-gMscSvqI",
    "outputId": "878a4915-cec1-4d25-acc8-0c50a4913b79"
   },
   "outputs": [],
   "source": [
    "model_loss, model_accuracy = p_nn.evaluate(p_X_test_scaled,p_y_test,verbose=2)\n",
    "print(f\"Loss: {model_loss}, Accuracy: {model_accuracy}\")"
   ]
  }
 ],
 "metadata": {
  "colab": {
   "provenance": []
  },
  "kernelspec": {
   "display_name": "Python 3 (ipykernel)",
   "language": "python",
   "name": "python3"
  },
  "language_info": {
   "codemirror_mode": {
    "name": "ipython",
    "version": 3
   },
   "file_extension": ".py",
   "mimetype": "text/x-python",
   "name": "python",
   "nbconvert_exporter": "python",
   "pygments_lexer": "ipython3",
   "version": "3.10.13"
  }
 },
 "nbformat": 4,
 "nbformat_minor": 4
}
